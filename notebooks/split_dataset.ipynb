{
 "cells": [
  {
   "cell_type": "code",
   "execution_count": 17,
   "metadata": {},
   "outputs": [],
   "source": [
    "from sklearn.model_selection import train_test_split\n",
    "import pandas as pd\n",
    "import numpy as np\n",
    "from pathlib import Path"
   ]
  },
  {
   "cell_type": "code",
   "execution_count": 18,
   "metadata": {},
   "outputs": [],
   "source": [
    "ds_path = Path(\"../data/GDBDv2/annotation.csv\").resolve()\n",
    "out_path = Path(\"../data/GDBDv2/\").resolve()"
   ]
  },
  {
   "cell_type": "code",
   "execution_count": 19,
   "metadata": {},
   "outputs": [
    {
     "data": {
      "text/plain": [
       "PosixPath('/home/a.klykov/doc_enhancement/data/GDBDv2/annotation.csv')"
      ]
     },
     "execution_count": 19,
     "metadata": {},
     "output_type": "execute_result"
    }
   ],
   "source": [
    "ds_path"
   ]
  },
  {
   "cell_type": "code",
   "execution_count": 20,
   "metadata": {},
   "outputs": [],
   "source": [
    "df = pd.read_csv(ds_path, index_col=0)"
   ]
  },
  {
   "cell_type": "code",
   "execution_count": 21,
   "metadata": {},
   "outputs": [
    {
     "data": {
      "text/html": [
       "<div>\n",
       "<style scoped>\n",
       "    .dataframe tbody tr th:only-of-type {\n",
       "        vertical-align: middle;\n",
       "    }\n",
       "\n",
       "    .dataframe tbody tr th {\n",
       "        vertical-align: top;\n",
       "    }\n",
       "\n",
       "    .dataframe thead th {\n",
       "        text-align: right;\n",
       "    }\n",
       "</style>\n",
       "<table border=\"1\" class=\"dataframe\">\n",
       "  <thead>\n",
       "    <tr style=\"text-align: right;\">\n",
       "      <th></th>\n",
       "      <th>noisy_img_path</th>\n",
       "      <th>gt_img_path</th>\n",
       "      <th>dataset_type</th>\n",
       "    </tr>\n",
       "  </thead>\n",
       "  <tbody>\n",
       "    <tr>\n",
       "      <th>0</th>\n",
       "      <td>NoisyImages/h-dibco2018_4.bmp</td>\n",
       "      <td>GTImages/h-dibco2018_4.bmp</td>\n",
       "      <td>h-dibco2018</td>\n",
       "    </tr>\n",
       "    <tr>\n",
       "      <th>1</th>\n",
       "      <td>NoisyImages/h-dibco2018_3.bmp</td>\n",
       "      <td>GTImages/h-dibco2018_3.bmp</td>\n",
       "      <td>h-dibco2018</td>\n",
       "    </tr>\n",
       "    <tr>\n",
       "      <th>2</th>\n",
       "      <td>NoisyImages/h-dibco2018_2.bmp</td>\n",
       "      <td>GTImages/h-dibco2018_2.bmp</td>\n",
       "      <td>h-dibco2018</td>\n",
       "    </tr>\n",
       "    <tr>\n",
       "      <th>3</th>\n",
       "      <td>NoisyImages/h-dibco2018_1.bmp</td>\n",
       "      <td>GTImages/h-dibco2018_1.bmp</td>\n",
       "      <td>h-dibco2018</td>\n",
       "    </tr>\n",
       "    <tr>\n",
       "      <th>4</th>\n",
       "      <td>NoisyImages/h-dibco2018_8.bmp</td>\n",
       "      <td>GTImages/h-dibco2018_8.bmp</td>\n",
       "      <td>h-dibco2018</td>\n",
       "    </tr>\n",
       "    <tr>\n",
       "      <th>...</th>\n",
       "      <td>...</td>\n",
       "      <td>...</td>\n",
       "      <td>...</td>\n",
       "    </tr>\n",
       "    <tr>\n",
       "      <th>10427</th>\n",
       "      <td>NoisyImages/noisyoffice_FontLse_Noisef_VA.bmp</td>\n",
       "      <td>GTImages/noisyoffice_FontLse_Clean_VA.bmp</td>\n",
       "      <td>noisyoffice</td>\n",
       "    </tr>\n",
       "    <tr>\n",
       "      <th>10428</th>\n",
       "      <td>NoisyImages/noisyoffice_Fontnse_Noisef_TR.bmp</td>\n",
       "      <td>GTImages/noisyoffice_Fontnse_Clean_TR.bmp</td>\n",
       "      <td>noisyoffice</td>\n",
       "    </tr>\n",
       "    <tr>\n",
       "      <th>10429</th>\n",
       "      <td>NoisyImages/noisyoffice_FontLtm_Noisef_VA.bmp</td>\n",
       "      <td>GTImages/noisyoffice_FontLtm_Clean_VA.bmp</td>\n",
       "      <td>noisyoffice</td>\n",
       "    </tr>\n",
       "    <tr>\n",
       "      <th>10430</th>\n",
       "      <td>NoisyImages/noisyoffice_Fontnse_Noisew_TR.bmp</td>\n",
       "      <td>GTImages/noisyoffice_Fontnse_Clean_TR.bmp</td>\n",
       "      <td>noisyoffice</td>\n",
       "    </tr>\n",
       "    <tr>\n",
       "      <th>10431</th>\n",
       "      <td>NoisyImages/noisyoffice_Fontfse_Noisep_VA.bmp</td>\n",
       "      <td>GTImages/noisyoffice_Fontfse_Clean_VA.bmp</td>\n",
       "      <td>noisyoffice</td>\n",
       "    </tr>\n",
       "  </tbody>\n",
       "</table>\n",
       "<p>10432 rows × 3 columns</p>\n",
       "</div>"
      ],
      "text/plain": [
       "                                      noisy_img_path  \\\n",
       "0                      NoisyImages/h-dibco2018_4.bmp   \n",
       "1                      NoisyImages/h-dibco2018_3.bmp   \n",
       "2                      NoisyImages/h-dibco2018_2.bmp   \n",
       "3                      NoisyImages/h-dibco2018_1.bmp   \n",
       "4                      NoisyImages/h-dibco2018_8.bmp   \n",
       "...                                              ...   \n",
       "10427  NoisyImages/noisyoffice_FontLse_Noisef_VA.bmp   \n",
       "10428  NoisyImages/noisyoffice_Fontnse_Noisef_TR.bmp   \n",
       "10429  NoisyImages/noisyoffice_FontLtm_Noisef_VA.bmp   \n",
       "10430  NoisyImages/noisyoffice_Fontnse_Noisew_TR.bmp   \n",
       "10431  NoisyImages/noisyoffice_Fontfse_Noisep_VA.bmp   \n",
       "\n",
       "                                     gt_img_path dataset_type  \n",
       "0                     GTImages/h-dibco2018_4.bmp  h-dibco2018  \n",
       "1                     GTImages/h-dibco2018_3.bmp  h-dibco2018  \n",
       "2                     GTImages/h-dibco2018_2.bmp  h-dibco2018  \n",
       "3                     GTImages/h-dibco2018_1.bmp  h-dibco2018  \n",
       "4                     GTImages/h-dibco2018_8.bmp  h-dibco2018  \n",
       "...                                          ...          ...  \n",
       "10427  GTImages/noisyoffice_FontLse_Clean_VA.bmp  noisyoffice  \n",
       "10428  GTImages/noisyoffice_Fontnse_Clean_TR.bmp  noisyoffice  \n",
       "10429  GTImages/noisyoffice_FontLtm_Clean_VA.bmp  noisyoffice  \n",
       "10430  GTImages/noisyoffice_Fontnse_Clean_TR.bmp  noisyoffice  \n",
       "10431  GTImages/noisyoffice_Fontfse_Clean_VA.bmp  noisyoffice  \n",
       "\n",
       "[10432 rows x 3 columns]"
      ]
     },
     "execution_count": 21,
     "metadata": {},
     "output_type": "execute_result"
    }
   ],
   "source": [
    "df"
   ]
  },
  {
   "cell_type": "code",
   "execution_count": 23,
   "metadata": {},
   "outputs": [
    {
     "data": {
      "text/html": [
       "<div>\n",
       "<style scoped>\n",
       "    .dataframe tbody tr th:only-of-type {\n",
       "        vertical-align: middle;\n",
       "    }\n",
       "\n",
       "    .dataframe tbody tr th {\n",
       "        vertical-align: top;\n",
       "    }\n",
       "\n",
       "    .dataframe thead th {\n",
       "        text-align: right;\n",
       "    }\n",
       "</style>\n",
       "<table border=\"1\" class=\"dataframe\">\n",
       "  <thead>\n",
       "    <tr style=\"text-align: right;\">\n",
       "      <th></th>\n",
       "      <th>noisy_img_path</th>\n",
       "      <th>gt_img_path</th>\n",
       "      <th>dataset_type</th>\n",
       "    </tr>\n",
       "  </thead>\n",
       "  <tbody>\n",
       "    <tr>\n",
       "      <th>75</th>\n",
       "      <td>NoisyImages/dibco2013_PR05.bmp</td>\n",
       "      <td>GTImages/dibco2013_PR05.bmp</td>\n",
       "      <td>dibco2013</td>\n",
       "    </tr>\n",
       "    <tr>\n",
       "      <th>76</th>\n",
       "      <td>NoisyImages/dibco2013_HW04.bmp</td>\n",
       "      <td>GTImages/dibco2013_HW04.bmp</td>\n",
       "      <td>dibco2013</td>\n",
       "    </tr>\n",
       "    <tr>\n",
       "      <th>77</th>\n",
       "      <td>NoisyImages/dibco2013_PR07.bmp</td>\n",
       "      <td>GTImages/dibco2013_PR07.bmp</td>\n",
       "      <td>dibco2013</td>\n",
       "    </tr>\n",
       "    <tr>\n",
       "      <th>78</th>\n",
       "      <td>NoisyImages/dibco2013_HW03.bmp</td>\n",
       "      <td>GTImages/dibco2013_HW03.bmp</td>\n",
       "      <td>dibco2013</td>\n",
       "    </tr>\n",
       "    <tr>\n",
       "      <th>79</th>\n",
       "      <td>NoisyImages/dibco2013_HW02.bmp</td>\n",
       "      <td>GTImages/dibco2013_HW02.bmp</td>\n",
       "      <td>dibco2013</td>\n",
       "    </tr>\n",
       "    <tr>\n",
       "      <th>80</th>\n",
       "      <td>NoisyImages/dibco2013_PR03.bmp</td>\n",
       "      <td>GTImages/dibco2013_PR03.bmp</td>\n",
       "      <td>dibco2013</td>\n",
       "    </tr>\n",
       "    <tr>\n",
       "      <th>81</th>\n",
       "      <td>NoisyImages/dibco2013_PR04.bmp</td>\n",
       "      <td>GTImages/dibco2013_PR04.bmp</td>\n",
       "      <td>dibco2013</td>\n",
       "    </tr>\n",
       "    <tr>\n",
       "      <th>82</th>\n",
       "      <td>NoisyImages/dibco2013_HW05.bmp</td>\n",
       "      <td>GTImages/dibco2013_HW05.bmp</td>\n",
       "      <td>dibco2013</td>\n",
       "    </tr>\n",
       "    <tr>\n",
       "      <th>83</th>\n",
       "      <td>NoisyImages/dibco2013_PR06.bmp</td>\n",
       "      <td>GTImages/dibco2013_PR06.bmp</td>\n",
       "      <td>dibco2013</td>\n",
       "    </tr>\n",
       "    <tr>\n",
       "      <th>84</th>\n",
       "      <td>NoisyImages/dibco2013_PR01.bmp</td>\n",
       "      <td>GTImages/dibco2013_PR01.bmp</td>\n",
       "      <td>dibco2013</td>\n",
       "    </tr>\n",
       "    <tr>\n",
       "      <th>85</th>\n",
       "      <td>NoisyImages/dibco2013_HW08.bmp</td>\n",
       "      <td>GTImages/dibco2013_HW08.bmp</td>\n",
       "      <td>dibco2013</td>\n",
       "    </tr>\n",
       "    <tr>\n",
       "      <th>86</th>\n",
       "      <td>NoisyImages/dibco2013_HW06.bmp</td>\n",
       "      <td>GTImages/dibco2013_HW06.bmp</td>\n",
       "      <td>dibco2013</td>\n",
       "    </tr>\n",
       "    <tr>\n",
       "      <th>87</th>\n",
       "      <td>NoisyImages/dibco2013_HW07.bmp</td>\n",
       "      <td>GTImages/dibco2013_HW07.bmp</td>\n",
       "      <td>dibco2013</td>\n",
       "    </tr>\n",
       "    <tr>\n",
       "      <th>88</th>\n",
       "      <td>NoisyImages/dibco2013_PR02.bmp</td>\n",
       "      <td>GTImages/dibco2013_PR02.bmp</td>\n",
       "      <td>dibco2013</td>\n",
       "    </tr>\n",
       "    <tr>\n",
       "      <th>89</th>\n",
       "      <td>NoisyImages/dibco2013_PR08.bmp</td>\n",
       "      <td>GTImages/dibco2013_PR08.bmp</td>\n",
       "      <td>dibco2013</td>\n",
       "    </tr>\n",
       "    <tr>\n",
       "      <th>90</th>\n",
       "      <td>NoisyImages/dibco2013_HW01.bmp</td>\n",
       "      <td>GTImages/dibco2013_HW01.bmp</td>\n",
       "      <td>dibco2013</td>\n",
       "    </tr>\n",
       "  </tbody>\n",
       "</table>\n",
       "</div>"
      ],
      "text/plain": [
       "                    noisy_img_path                  gt_img_path dataset_type\n",
       "75  NoisyImages/dibco2013_PR05.bmp  GTImages/dibco2013_PR05.bmp    dibco2013\n",
       "76  NoisyImages/dibco2013_HW04.bmp  GTImages/dibco2013_HW04.bmp    dibco2013\n",
       "77  NoisyImages/dibco2013_PR07.bmp  GTImages/dibco2013_PR07.bmp    dibco2013\n",
       "78  NoisyImages/dibco2013_HW03.bmp  GTImages/dibco2013_HW03.bmp    dibco2013\n",
       "79  NoisyImages/dibco2013_HW02.bmp  GTImages/dibco2013_HW02.bmp    dibco2013\n",
       "80  NoisyImages/dibco2013_PR03.bmp  GTImages/dibco2013_PR03.bmp    dibco2013\n",
       "81  NoisyImages/dibco2013_PR04.bmp  GTImages/dibco2013_PR04.bmp    dibco2013\n",
       "82  NoisyImages/dibco2013_HW05.bmp  GTImages/dibco2013_HW05.bmp    dibco2013\n",
       "83  NoisyImages/dibco2013_PR06.bmp  GTImages/dibco2013_PR06.bmp    dibco2013\n",
       "84  NoisyImages/dibco2013_PR01.bmp  GTImages/dibco2013_PR01.bmp    dibco2013\n",
       "85  NoisyImages/dibco2013_HW08.bmp  GTImages/dibco2013_HW08.bmp    dibco2013\n",
       "86  NoisyImages/dibco2013_HW06.bmp  GTImages/dibco2013_HW06.bmp    dibco2013\n",
       "87  NoisyImages/dibco2013_HW07.bmp  GTImages/dibco2013_HW07.bmp    dibco2013\n",
       "88  NoisyImages/dibco2013_PR02.bmp  GTImages/dibco2013_PR02.bmp    dibco2013\n",
       "89  NoisyImages/dibco2013_PR08.bmp  GTImages/dibco2013_PR08.bmp    dibco2013\n",
       "90  NoisyImages/dibco2013_HW01.bmp  GTImages/dibco2013_HW01.bmp    dibco2013"
      ]
     },
     "execution_count": 23,
     "metadata": {},
     "output_type": "execute_result"
    }
   ],
   "source": [
    "X_test = df.loc[df[\"dataset_type\"] == \"dibco2013\"]\n",
    "X_test"
   ]
  },
  {
   "cell_type": "code",
   "execution_count": 24,
   "metadata": {},
   "outputs": [
    {
     "data": {
      "text/html": [
       "<div>\n",
       "<style scoped>\n",
       "    .dataframe tbody tr th:only-of-type {\n",
       "        vertical-align: middle;\n",
       "    }\n",
       "\n",
       "    .dataframe tbody tr th {\n",
       "        vertical-align: top;\n",
       "    }\n",
       "\n",
       "    .dataframe thead th {\n",
       "        text-align: right;\n",
       "    }\n",
       "</style>\n",
       "<table border=\"1\" class=\"dataframe\">\n",
       "  <thead>\n",
       "    <tr style=\"text-align: right;\">\n",
       "      <th></th>\n",
       "      <th>noisy_img_path</th>\n",
       "      <th>gt_img_path</th>\n",
       "      <th>dataset_type</th>\n",
       "    </tr>\n",
       "  </thead>\n",
       "  <tbody>\n",
       "    <tr>\n",
       "      <th>9229</th>\n",
       "      <td>NoisyImages/lshdib_input_5257.bmp</td>\n",
       "      <td>GTImages/lshdib_input_5257.bmp</td>\n",
       "      <td>lshdib</td>\n",
       "    </tr>\n",
       "    <tr>\n",
       "      <th>6903</th>\n",
       "      <td>NoisyImages/lshdib_input_4722.bmp</td>\n",
       "      <td>GTImages/lshdib_input_4722.bmp</td>\n",
       "      <td>lshdib</td>\n",
       "    </tr>\n",
       "    <tr>\n",
       "      <th>7471</th>\n",
       "      <td>NoisyImages/lshdib_input_2097.bmp</td>\n",
       "      <td>GTImages/lshdib_input_2097.bmp</td>\n",
       "      <td>lshdib</td>\n",
       "    </tr>\n",
       "    <tr>\n",
       "      <th>7957</th>\n",
       "      <td>NoisyImages/lshdib_input_9854.bmp</td>\n",
       "      <td>GTImages/lshdib_input_9854.bmp</td>\n",
       "      <td>lshdib</td>\n",
       "    </tr>\n",
       "    <tr>\n",
       "      <th>4552</th>\n",
       "      <td>NoisyImages/lshdib_input_551.bmp</td>\n",
       "      <td>GTImages/lshdib_input_551.bmp</td>\n",
       "      <td>lshdib</td>\n",
       "    </tr>\n",
       "    <tr>\n",
       "      <th>...</th>\n",
       "      <td>...</td>\n",
       "      <td>...</td>\n",
       "      <td>...</td>\n",
       "    </tr>\n",
       "    <tr>\n",
       "      <th>4647</th>\n",
       "      <td>NoisyImages/lshdib_input_1779.bmp</td>\n",
       "      <td>GTImages/lshdib_input_1779.bmp</td>\n",
       "      <td>lshdib</td>\n",
       "    </tr>\n",
       "    <tr>\n",
       "      <th>9840</th>\n",
       "      <td>NoisyImages/lshdib_input_5861.bmp</td>\n",
       "      <td>GTImages/lshdib_input_5861.bmp</td>\n",
       "      <td>lshdib</td>\n",
       "    </tr>\n",
       "    <tr>\n",
       "      <th>1432</th>\n",
       "      <td>NoisyImages/lshdib_input_4966.bmp</td>\n",
       "      <td>GTImages/lshdib_input_4966.bmp</td>\n",
       "      <td>lshdib</td>\n",
       "    </tr>\n",
       "    <tr>\n",
       "      <th>9202</th>\n",
       "      <td>NoisyImages/lshdib_input_8182.bmp</td>\n",
       "      <td>GTImages/lshdib_input_8182.bmp</td>\n",
       "      <td>lshdib</td>\n",
       "    </tr>\n",
       "    <tr>\n",
       "      <th>6498</th>\n",
       "      <td>NoisyImages/lshdib_input_7459.bmp</td>\n",
       "      <td>GTImages/lshdib_input_7459.bmp</td>\n",
       "      <td>lshdib</td>\n",
       "    </tr>\n",
       "  </tbody>\n",
       "</table>\n",
       "<p>10416 rows × 3 columns</p>\n",
       "</div>"
      ],
      "text/plain": [
       "                         noisy_img_path                     gt_img_path  \\\n",
       "9229  NoisyImages/lshdib_input_5257.bmp  GTImages/lshdib_input_5257.bmp   \n",
       "6903  NoisyImages/lshdib_input_4722.bmp  GTImages/lshdib_input_4722.bmp   \n",
       "7471  NoisyImages/lshdib_input_2097.bmp  GTImages/lshdib_input_2097.bmp   \n",
       "7957  NoisyImages/lshdib_input_9854.bmp  GTImages/lshdib_input_9854.bmp   \n",
       "4552   NoisyImages/lshdib_input_551.bmp   GTImages/lshdib_input_551.bmp   \n",
       "...                                 ...                             ...   \n",
       "4647  NoisyImages/lshdib_input_1779.bmp  GTImages/lshdib_input_1779.bmp   \n",
       "9840  NoisyImages/lshdib_input_5861.bmp  GTImages/lshdib_input_5861.bmp   \n",
       "1432  NoisyImages/lshdib_input_4966.bmp  GTImages/lshdib_input_4966.bmp   \n",
       "9202  NoisyImages/lshdib_input_8182.bmp  GTImages/lshdib_input_8182.bmp   \n",
       "6498  NoisyImages/lshdib_input_7459.bmp  GTImages/lshdib_input_7459.bmp   \n",
       "\n",
       "     dataset_type  \n",
       "9229       lshdib  \n",
       "6903       lshdib  \n",
       "7471       lshdib  \n",
       "7957       lshdib  \n",
       "4552       lshdib  \n",
       "...           ...  \n",
       "4647       lshdib  \n",
       "9840       lshdib  \n",
       "1432       lshdib  \n",
       "9202       lshdib  \n",
       "6498       lshdib  \n",
       "\n",
       "[10416 rows x 3 columns]"
      ]
     },
     "execution_count": 24,
     "metadata": {},
     "output_type": "execute_result"
    }
   ],
   "source": [
    "X_train = df.drop(X_test.index, axis=0)\n",
    "X_train = X_train.sample(frac=1)\n",
    "X_train"
   ]
  },
  {
   "cell_type": "code",
   "execution_count": 25,
   "metadata": {},
   "outputs": [
    {
     "data": {
      "text/plain": [
       "10416"
      ]
     },
     "execution_count": 25,
     "metadata": {},
     "output_type": "execute_result"
    }
   ],
   "source": [
    "len(X_train)"
   ]
  },
  {
   "cell_type": "code",
   "execution_count": 26,
   "metadata": {},
   "outputs": [
    {
     "data": {
      "text/plain": [
       "<Axes: >"
      ]
     },
     "execution_count": 26,
     "metadata": {},
     "output_type": "execute_result"
    },
    {
     "data": {
      "image/png": "[encoded data removed]",
      "text/plain": [
       "<Figure size 640x480 with 1 Axes>"
      ]
     },
     "metadata": {},
     "output_type": "display_data"
    }
   ],
   "source": [
    "X_train.dataset_type.hist()"
   ]
  },
  {
   "cell_type": "code",
   "execution_count": 27,
   "metadata": {},
   "outputs": [
    {
     "data": {
      "text/plain": [
       "16"
      ]
     },
     "execution_count": 27,
     "metadata": {},
     "output_type": "execute_result"
    }
   ],
   "source": [
    "len(X_test)"
   ]
  },
  {
   "cell_type": "code",
   "execution_count": 28,
   "metadata": {},
   "outputs": [
    {
     "data": {
      "text/plain": [
       "<Axes: >"
      ]
     },
     "execution_count": 28,
     "metadata": {},
     "output_type": "execute_result"
    },
    {
     "data": {
      "image/png": "[encoded data removed]",
      "text/plain": [
       "<Figure size 640x480 with 1 Axes>"
      ]
     },
     "metadata": {},
     "output_type": "display_data"
    }
   ],
   "source": [
    "X_test.dataset_type.hist()"
   ]
  },
  {
   "cell_type": "code",
   "execution_count": 29,
   "metadata": {},
   "outputs": [],
   "source": [
    "X_train.to_csv(out_path.joinpath(\"train_metadata.csv\"))"
   ]
  },
  {
   "cell_type": "code",
   "execution_count": 30,
   "metadata": {},
   "outputs": [],
   "source": [
    "X_test.to_csv(out_path.joinpath(\"val_metadata.csv\"))"
   ]
  },
  {
   "cell_type": "code",
   "execution_count": null,
   "metadata": {},
   "outputs": [],
   "source": []
  }
 ],
 "metadata": {
  "kernelspec": {
   "display_name": ".doc_enct",
   "language": "python",
   "name": "python3"
  },
  "language_info": {
   "codemirror_mode": {
    "name": "ipython",
    "version": 3
   },
   "file_extension": ".py",
   "mimetype": "text/x-python",
   "name": "python",
   "nbconvert_exporter": "python",
   "pygments_lexer": "ipython3",
   "version": "3.10.13"
  }
 },
 "nbformat": 4,
 "nbformat_minor": 2
}
