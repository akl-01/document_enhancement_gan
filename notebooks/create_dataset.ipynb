{
 "cells": [
  {
   "cell_type": "code",
   "execution_count": 9,
   "metadata": {},
   "outputs": [],
   "source": [
    "from pathlib import Path"
   ]
  },
  {
   "cell_type": "code",
   "execution_count": 10,
   "metadata": {},
   "outputs": [],
   "source": [
    "data_root = Path(\"../backup_data/data/\").resolve()"
   ]
  },
  {
   "cell_type": "code",
   "execution_count": 11,
   "metadata": {},
   "outputs": [],
   "source": [
    "target_dir = Path(\"../data/GDBDv2/\").resolve()"
   ]
  },
  {
   "cell_type": "code",
   "execution_count": 12,
   "metadata": {},
   "outputs": [],
   "source": [
    "target_dir.mkdir(exist_ok=True)\n",
    "target_dir.joinpath(\"GTImages\").mkdir(exist_ok=True)\n",
    "target_dir.joinpath(\"OriginalImages\").mkdir(exist_ok=True)"
   ]
  },
  {
   "cell_type": "code",
   "execution_count": 13,
   "metadata": {},
   "outputs": [],
   "source": [
    "for dataset_dir in data_root.iterdir():\n",
    "    gt = dataset_dir.joinpath(\"GTImages\")\n",
    "    orig = dataset_dir.joinpath(\"OriginalImages\")\n",
    "    \n",
    "    for g in gt.iterdir():\n",
    "        new_path = g.with_stem(g.stem.split(\"_\")[0])\n",
    "        g.with_suffix(\".bmp\")\n",
    "        g.rename(new_path) "
   ]
  },
  {
   "cell_type": "code",
   "execution_count": 14,
   "metadata": {},
   "outputs": [],
   "source": [
    "dataset_dir = Path(\"../backup_data/LSHDIB/\").resolve()\n",
    "gt = dataset_dir.joinpath(\"GTImages\")\n",
    "orig = dataset_dir.joinpath(\"OriginalImages\")"
   ]
  },
  {
   "cell_type": "code",
   "execution_count": 15,
   "metadata": {},
   "outputs": [],
   "source": [
    "for g in gt.iterdir():\n",
    "    new_path = g.with_name(f\"input_{g.stem.split('_')[1]}.bmp\")\n",
    "    g.rename(new_path)\n",
    "\n",
    "for o in orig.iterdir():\n",
    "    new_path = o.with_suffix(\".bmp\")\n",
    "    o.rename(new_path)"
   ]
  },
  {
   "cell_type": "code",
   "execution_count": 16,
   "metadata": {},
   "outputs": [],
   "source": [
    "dataset_dir = Path(\"../backup_data/NoisyOffice/\").resolve()\n",
    "gt = dataset_dir.joinpath(\"GTImages\")\n",
    "orig = dataset_dir.joinpath(\"OriginalImages\")"
   ]
  },
  {
   "cell_type": "code",
   "execution_count": 17,
   "metadata": {},
   "outputs": [],
   "source": [
    "for g in gt.iterdir():\n",
    "    new_path = g.with_suffix(\".bmp\")\n",
    "    g.rename(new_path)\n",
    "\n",
    "for o in orig.iterdir():\n",
    "    new_path = o.with_suffix(\".bmp\")\n",
    "    o.rename(new_path)"
   ]
  },
  {
   "cell_type": "code",
   "execution_count": null,
   "metadata": {},
   "outputs": [],
   "source": []
  },
  {
   "cell_type": "code",
   "execution_count": 18,
   "metadata": {},
   "outputs": [],
   "source": [
    "import pandas as pd"
   ]
  },
  {
   "cell_type": "code",
   "execution_count": 19,
   "metadata": {},
   "outputs": [],
   "source": [
    "dataset_template = {\n",
    "    \"noisy_img_path\": [],\n",
    "    \"gt_img_path\": [],\n",
    "    \"dataset_type\": [] \n",
    "}"
   ]
  },
  {
   "cell_type": "code",
   "execution_count": 20,
   "metadata": {},
   "outputs": [],
   "source": [
    "from PIL import Image"
   ]
  },
  {
   "cell_type": "code",
   "execution_count": 21,
   "metadata": {},
   "outputs": [],
   "source": [
    "data_root = Path(\"../backup_data/data/\").resolve()\n",
    "save_path = \"../data/GDBDv2/\""
   ]
  },
  {
   "cell_type": "code",
   "execution_count": 22,
   "metadata": {},
   "outputs": [],
   "source": [
    "for dir in data_root.iterdir():\n",
    "    noisy_dir = dir.joinpath(\"OriginalImages\")\n",
    "    gt_dir = dir.joinpath(\"GTImages\")\n",
    "\n",
    "    dir_stem = dir.stem.lower()\n",
    "    for noisy_image in noisy_dir.iterdir():\n",
    "        image_stem = noisy_image.stem\n",
    "        image_name = noisy_image.name\n",
    "\n",
    "        img = Image.open(noisy_image)\n",
    "        img.save(f\"{save_path}NoisyImages/{dir_stem}_{image_stem}.bmp\")\n",
    "        dataset_template[\"noisy_img_path\"].append(f\"NoisyImages/{dir_stem}_{image_stem}.bmp\")\n",
    "\n",
    "        gt_image = gt_dir.joinpath(image_name)\n",
    "        img = Image.open(gt_image)\n",
    "        img.save(f\"{save_path}GTImages/{dir_stem}_{image_stem}.bmp\")\n",
    "        dataset_template[\"gt_img_path\"].append(f\"GTImages/{dir_stem}_{image_stem}.bmp\")\n",
    "        dataset_template[\"dataset_type\"].append(dir_stem)"
   ]
  },
  {
   "cell_type": "code",
   "execution_count": 23,
   "metadata": {},
   "outputs": [],
   "source": [
    "data_root = Path(\"../backup_data/LSHDIB/\").resolve()\n",
    "save_path = \"../data/GDBDv2/\"\n",
    "noisy_dir = data_root.joinpath(\"OriginalImages\")\n",
    "gt_dir = data_root.joinpath(\"GTImages\")\n",
    "dir_stem = data_root.stem.lower()"
   ]
  },
  {
   "cell_type": "code",
   "execution_count": 24,
   "metadata": {},
   "outputs": [],
   "source": [
    "for noisy_image in noisy_dir.iterdir():\n",
    "    image_stem = noisy_image.stem\n",
    "    image_name = noisy_image.name\n",
    "\n",
    "    img = Image.open(noisy_image)\n",
    "    img.save(f\"{save_path}NoisyImages/{dir_stem}_{image_stem}.bmp\")\n",
    "    dataset_template[\"noisy_img_path\"].append(f\"NoisyImages/{dir_stem}_{image_stem}.bmp\")\n",
    "\n",
    "    gt_image = gt_dir.joinpath(image_name)\n",
    "    img = Image.open(gt_image)\n",
    "    img.save(f\"{save_path}GTImages/{dir_stem}_{image_stem}.bmp\")\n",
    "    dataset_template[\"gt_img_path\"].append(f\"GTImages/{dir_stem}_{image_stem}.bmp\")\n",
    "    dataset_template[\"dataset_type\"].append(dir_stem)"
   ]
  },
  {
   "cell_type": "code",
   "execution_count": 25,
   "metadata": {},
   "outputs": [],
   "source": [
    "data_root = Path(\"../backup_data/NoisyOffice/\").resolve()\n",
    "save_path = \"../data/GDBDv2/\"\n",
    "noisy_dir = data_root.joinpath(\"OriginalImages\")\n",
    "gt_dir = data_root.joinpath(\"GTImages\")\n",
    "dir_stem = data_root.stem.lower()"
   ]
  },
  {
   "cell_type": "code",
   "execution_count": 26,
   "metadata": {},
   "outputs": [],
   "source": [
    "for noisy_image in noisy_dir.iterdir():\n",
    "    image_stem = noisy_image.stem\n",
    "    image_name = noisy_image.name.split(\"_\")\n",
    "    image_name = f\"{image_name[0]}_Clean_{image_name[2]}\" \n",
    "\n",
    "    img = Image.open(noisy_image)\n",
    "    img.save(f\"{save_path}NoisyImages/{dir_stem}_{image_stem}.bmp\")\n",
    "    dataset_template[\"noisy_img_path\"].append(f\"NoisyImages/{dir_stem}_{image_stem}.bmp\")\n",
    "\n",
    "    gt_image = gt_dir.joinpath(image_name)\n",
    "    gt_stem = gt_image.stem\n",
    "    img = Image.open(gt_image)\n",
    "    img.save(f\"{save_path}GTImages/{dir_stem}_{gt_stem}.bmp\")\n",
    "    dataset_template[\"gt_img_path\"].append(f\"GTImages/{dir_stem}_{gt_stem}.bmp\")\n",
    "    dataset_template[\"dataset_type\"].append(dir_stem)"
   ]
  },
  {
   "cell_type": "code",
   "execution_count": 27,
   "metadata": {},
   "outputs": [],
   "source": [
    "annotation = pd.DataFrame(dataset_template)"
   ]
  },
  {
   "cell_type": "code",
   "execution_count": 28,
   "metadata": {},
   "outputs": [
    {
     "data": {
      "text/html": [
       "<div>\n",
       "<style scoped>\n",
       "    .dataframe tbody tr th:only-of-type {\n",
       "        vertical-align: middle;\n",
       "    }\n",
       "\n",
       "    .dataframe tbody tr th {\n",
       "        vertical-align: top;\n",
       "    }\n",
       "\n",
       "    .dataframe thead th {\n",
       "        text-align: right;\n",
       "    }\n",
       "</style>\n",
       "<table border=\"1\" class=\"dataframe\">\n",
       "  <thead>\n",
       "    <tr style=\"text-align: right;\">\n",
       "      <th></th>\n",
       "      <th>noisy_img_path</th>\n",
       "      <th>gt_img_path</th>\n",
       "      <th>dataset_type</th>\n",
       "    </tr>\n",
       "  </thead>\n",
       "  <tbody>\n",
       "    <tr>\n",
       "      <th>0</th>\n",
       "      <td>NoisyImages/h-dibco2018_4.bmp</td>\n",
       "      <td>GTImages/h-dibco2018_4.bmp</td>\n",
       "      <td>h-dibco2018</td>\n",
       "    </tr>\n",
       "    <tr>\n",
       "      <th>1</th>\n",
       "      <td>NoisyImages/h-dibco2018_3.bmp</td>\n",
       "      <td>GTImages/h-dibco2018_3.bmp</td>\n",
       "      <td>h-dibco2018</td>\n",
       "    </tr>\n",
       "    <tr>\n",
       "      <th>2</th>\n",
       "      <td>NoisyImages/h-dibco2018_2.bmp</td>\n",
       "      <td>GTImages/h-dibco2018_2.bmp</td>\n",
       "      <td>h-dibco2018</td>\n",
       "    </tr>\n",
       "    <tr>\n",
       "      <th>3</th>\n",
       "      <td>NoisyImages/h-dibco2018_1.bmp</td>\n",
       "      <td>GTImages/h-dibco2018_1.bmp</td>\n",
       "      <td>h-dibco2018</td>\n",
       "    </tr>\n",
       "    <tr>\n",
       "      <th>4</th>\n",
       "      <td>NoisyImages/h-dibco2018_8.bmp</td>\n",
       "      <td>GTImages/h-dibco2018_8.bmp</td>\n",
       "      <td>h-dibco2018</td>\n",
       "    </tr>\n",
       "    <tr>\n",
       "      <th>...</th>\n",
       "      <td>...</td>\n",
       "      <td>...</td>\n",
       "      <td>...</td>\n",
       "    </tr>\n",
       "    <tr>\n",
       "      <th>10427</th>\n",
       "      <td>NoisyImages/noisyoffice_FontLse_Noisef_VA.bmp</td>\n",
       "      <td>GTImages/noisyoffice_FontLse_Clean_VA.bmp</td>\n",
       "      <td>noisyoffice</td>\n",
       "    </tr>\n",
       "    <tr>\n",
       "      <th>10428</th>\n",
       "      <td>NoisyImages/noisyoffice_Fontnse_Noisef_TR.bmp</td>\n",
       "      <td>GTImages/noisyoffice_Fontnse_Clean_TR.bmp</td>\n",
       "      <td>noisyoffice</td>\n",
       "    </tr>\n",
       "    <tr>\n",
       "      <th>10429</th>\n",
       "      <td>NoisyImages/noisyoffice_FontLtm_Noisef_VA.bmp</td>\n",
       "      <td>GTImages/noisyoffice_FontLtm_Clean_VA.bmp</td>\n",
       "      <td>noisyoffice</td>\n",
       "    </tr>\n",
       "    <tr>\n",
       "      <th>10430</th>\n",
       "      <td>NoisyImages/noisyoffice_Fontnse_Noisew_TR.bmp</td>\n",
       "      <td>GTImages/noisyoffice_Fontnse_Clean_TR.bmp</td>\n",
       "      <td>noisyoffice</td>\n",
       "    </tr>\n",
       "    <tr>\n",
       "      <th>10431</th>\n",
       "      <td>NoisyImages/noisyoffice_Fontfse_Noisep_VA.bmp</td>\n",
       "      <td>GTImages/noisyoffice_Fontfse_Clean_VA.bmp</td>\n",
       "      <td>noisyoffice</td>\n",
       "    </tr>\n",
       "  </tbody>\n",
       "</table>\n",
       "<p>10432 rows × 3 columns</p>\n",
       "</div>"
      ],
      "text/plain": [
       "                                      noisy_img_path  \\\n",
       "0                      NoisyImages/h-dibco2018_4.bmp   \n",
       "1                      NoisyImages/h-dibco2018_3.bmp   \n",
       "2                      NoisyImages/h-dibco2018_2.bmp   \n",
       "3                      NoisyImages/h-dibco2018_1.bmp   \n",
       "4                      NoisyImages/h-dibco2018_8.bmp   \n",
       "...                                              ...   \n",
       "10427  NoisyImages/noisyoffice_FontLse_Noisef_VA.bmp   \n",
       "10428  NoisyImages/noisyoffice_Fontnse_Noisef_TR.bmp   \n",
       "10429  NoisyImages/noisyoffice_FontLtm_Noisef_VA.bmp   \n",
       "10430  NoisyImages/noisyoffice_Fontnse_Noisew_TR.bmp   \n",
       "10431  NoisyImages/noisyoffice_Fontfse_Noisep_VA.bmp   \n",
       "\n",
       "                                     gt_img_path dataset_type  \n",
       "0                     GTImages/h-dibco2018_4.bmp  h-dibco2018  \n",
       "1                     GTImages/h-dibco2018_3.bmp  h-dibco2018  \n",
       "2                     GTImages/h-dibco2018_2.bmp  h-dibco2018  \n",
       "3                     GTImages/h-dibco2018_1.bmp  h-dibco2018  \n",
       "4                     GTImages/h-dibco2018_8.bmp  h-dibco2018  \n",
       "...                                          ...          ...  \n",
       "10427  GTImages/noisyoffice_FontLse_Clean_VA.bmp  noisyoffice  \n",
       "10428  GTImages/noisyoffice_Fontnse_Clean_TR.bmp  noisyoffice  \n",
       "10429  GTImages/noisyoffice_FontLtm_Clean_VA.bmp  noisyoffice  \n",
       "10430  GTImages/noisyoffice_Fontnse_Clean_TR.bmp  noisyoffice  \n",
       "10431  GTImages/noisyoffice_Fontfse_Clean_VA.bmp  noisyoffice  \n",
       "\n",
       "[10432 rows x 3 columns]"
      ]
     },
     "execution_count": 28,
     "metadata": {},
     "output_type": "execute_result"
    }
   ],
   "source": [
    "annotation"
   ]
  },
  {
   "cell_type": "code",
   "execution_count": 237,
   "metadata": {},
   "outputs": [],
   "source": [
    "from sklearn.preprocessing import LabelEncoder"
   ]
  },
  {
   "cell_type": "code",
   "execution_count": 238,
   "metadata": {},
   "outputs": [],
   "source": [
    "label_encoder = LabelEncoder() "
   ]
  },
  {
   "cell_type": "code",
   "execution_count": 239,
   "metadata": {},
   "outputs": [
    {
     "data": {
      "text/plain": [
       "array(['h-dibco2018', 'dibco2019', 'persiandocs', 'h-dibco2016',\n",
       "       'dibco2017', 'dibco2013', 'palm-leaf', 'bickleydiary',\n",
       "       'h-dibco2014', 'noisyoffice'], dtype=object)"
      ]
     },
     "execution_count": 239,
     "metadata": {},
     "output_type": "execute_result"
    }
   ],
   "source": [
    "annotation[\"dataset_type\"].unique()"
   ]
  },
  {
   "cell_type": "code",
   "execution_count": 240,
   "metadata": {},
   "outputs": [],
   "source": [
    "annotation[\"dataset_type\"] = label_encoder.fit_transform(annotation[\"dataset_type\"])"
   ]
  },
  {
   "cell_type": "code",
   "execution_count": 29,
   "metadata": {},
   "outputs": [],
   "source": [
    "annotation.to_csv(\"../data/GDBDv2/annotation.csv\")"
   ]
  },
  {
   "cell_type": "code",
   "execution_count": null,
   "metadata": {},
   "outputs": [],
   "source": []
  }
 ],
 "metadata": {
  "kernelspec": {
   "display_name": ".doc_enct",
   "language": "python",
   "name": "python3"
  },
  "language_info": {
   "codemirror_mode": {
    "name": "ipython",
    "version": 3
   },
   "file_extension": ".py",
   "mimetype": "text/x-python",
   "name": "python",
   "nbconvert_exporter": "python",
   "pygments_lexer": "ipython3",
   "version": "3.10.13"
  }
 },
 "nbformat": 4,
 "nbformat_minor": 2
}
